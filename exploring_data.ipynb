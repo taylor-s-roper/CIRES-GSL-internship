{
 "cells": [
  {
   "cell_type": "code",
   "execution_count": null,
   "id": "cc8cb45f",
   "metadata": {},
   "outputs": [],
   "source": [
    "# graphing using basemap\n",
    "\n",
    "import matplotlib as mpl\n",
    "import matplotlib.pyplot as plt\n",
    "from mpl_toolkits.basemap import Basemap\n",
    "\n",
    "def Basemap_plot(var, var_name='Precipitation'):\n",
    "\n",
    "    map = Basemap(llcrnrlon=-123.,llcrnrlat=20., \n",
    "                   urcrnrlon=-59., urcrnrlat=48., \n",
    "                   projection='lcc', \n",
    "                   lat_1=38.5,\n",
    "                   lat_0=38.5,\n",
    "                   lon_0=-97.5,\n",
    "                   resolution='l')\n",
    "\n",
    "    # draw coastlines, country boundaries, fill continents\n",
    "    map.drawcoastlines(linewidth=0.25)\n",
    "    map.drawcountries(linewidth=0.25)\n",
    "    map.fillcontinents(color='xkcd:white',lake_color='xkcd:white')\n",
    "\n",
    "\n",
    "\n",
    "    # draw the edge of the map projection region (the projection limb)\n",
    "    map.drawmapboundary(fill_color='xkcd:white')\n",
    "    map.drawstates()\n",
    "\n",
    "    # draw lat/lon grid lines every 30 degrees.\n",
    "    map.drawmeridians(np.arange(-180,180,30))\n",
    "    map.drawparallels(np.arange(-90,90,30))\n",
    "\n",
    "    x, y = map(long, lat)\n",
    "\n",
    "    cs = map.contour(x, y, var, 15, linewidths=1.5)\n",
    "    plt.title(var_name)\n",
    "    plt.show()"
   ]
  },
  {
   "cell_type": "code",
   "execution_count": null,
   "id": "72cffdcc-b6fc-43a0-89fc-eda1fb5ca492",
   "metadata": {},
   "outputs": [],
   "source": [
    "import pygrib\n",
    "import numpy as np\n",
    "fn_grb = 'blend.t00z.qmd.f012.co.grib2'\n",
    "ds_grb = pygrib.open(fn_grb)"
   ]
  },
  {
   "cell_type": "code",
   "execution_count": null,
   "id": "5f4cf3be-9199-4cd9-b2ee-7ec06167f2db",
   "metadata": {
    "scrolled": true
   },
   "outputs": [],
   "source": [
    "# for msg_num in range(ds_grb.messages):\n",
    "#     msg_num += 1\n",
    "#     print(ds_grb.message(msg_num))"
   ]
  },
  {
   "cell_type": "code",
   "execution_count": null,
   "id": "f106a533-3888-41c1-8329-ddec3fae4836",
   "metadata": {},
   "outputs": [],
   "source": [
    "lat, long = ds_grb.message(2).data()[1:]\n",
    "precip_shape = lat.shape\n",
    "precip_levels = np.zeros(shape=(99,)+precip_shape)\n",
    "for i in range(99):\n",
    "    precip_levels[i,:,:] = ds_grb.message(i+2).data()[0]"
   ]
  },
  {
   "cell_type": "code",
   "execution_count": null,
   "id": "76179f5e-5767-4ef1-8e81-34b3be309be7",
   "metadata": {},
   "outputs": [],
   "source": [
    "def plot_dist(loc='random'):\n",
    "    if loc == 'random':\n",
    "        loc = (int(np.random.uniform(0,lat.shape[0])),int(np.random.uniform(0,lat.shape[1])))\n",
    "    plt.figure()\n",
    "    plt.plot(np.linspace(1,99,99),precip_levels[:,loc[0],loc[1]])\n",
    "    plt.xlabel('unknown')\n",
    "    plt.ylabel('Precipitation')\n",
    "    plt.show()"
   ]
  },
  {
   "cell_type": "code",
   "execution_count": null,
   "id": "b1bd108c",
   "metadata": {},
   "outputs": [],
   "source": [
    "plot_dist()"
   ]
  },
  {
   "cell_type": "code",
   "execution_count": null,
   "id": "59213424",
   "metadata": {},
   "outputs": [],
   "source": []
  },
  {
   "cell_type": "code",
   "execution_count": null,
   "id": "48670d00",
   "metadata": {},
   "outputs": [],
   "source": []
  },
  {
   "cell_type": "code",
   "execution_count": null,
   "id": "7ceafb57",
   "metadata": {},
   "outputs": [],
   "source": []
  },
  {
   "cell_type": "code",
   "execution_count": null,
   "id": "ea502ffc",
   "metadata": {},
   "outputs": [],
   "source": []
  },
  {
   "cell_type": "code",
   "execution_count": null,
   "id": "7c41d2ce-cc35-4081-8806-f158627ecd63",
   "metadata": {},
   "outputs": [],
   "source": []
  },
  {
   "cell_type": "code",
   "execution_count": null,
   "id": "1d76d0f3-70af-48f3-8de7-7c09c9ec7801",
   "metadata": {},
   "outputs": [],
   "source": []
  },
  {
   "cell_type": "code",
   "execution_count": null,
   "id": "5a0098f1-2b21-47bb-ba8a-c0decedbbcf0",
   "metadata": {},
   "outputs": [],
   "source": []
  },
  {
   "cell_type": "code",
   "execution_count": null,
   "id": "ebd53d6d-130e-426f-bdab-cf0a9bd56e5c",
   "metadata": {},
   "outputs": [],
   "source": []
  },
  {
   "cell_type": "code",
   "execution_count": null,
   "id": "10fe624c",
   "metadata": {},
   "outputs": [],
   "source": [
    "# import netCDF4\n",
    "# fn_ncf = 'NBM_2214414000012.ncf'\n",
    "# # var_name = 'Total_precipitation_surface_1_Hour_Accumulation'\n",
    "# var_name = 'Temperature_surface'\n",
    "# ds = netCDF4.Dataset(fn_ncf)\n",
    "# # data_ncf = ds[var_name][:].data\n",
    "# data_ncf = ds[var_name]"
   ]
  }
 ],
 "metadata": {
  "kernelspec": {
   "display_name": "Python 3 (ipykernel)",
   "language": "python",
   "name": "python3"
  },
  "language_info": {
   "codemirror_mode": {
    "name": "ipython",
    "version": 3
   },
   "file_extension": ".py",
   "mimetype": "text/x-python",
   "name": "python",
   "nbconvert_exporter": "python",
   "pygments_lexer": "ipython3",
   "version": "3.9.5"
  }
 },
 "nbformat": 4,
 "nbformat_minor": 5
}
