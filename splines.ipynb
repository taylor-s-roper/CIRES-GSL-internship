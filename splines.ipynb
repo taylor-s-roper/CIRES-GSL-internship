{
 "cells": [
  {
   "cell_type": "code",
   "execution_count": null,
   "id": "28ed8367",
   "metadata": {},
   "outputs": [],
   "source": [
    "import numpy as np\n",
    "import pygrib\n",
    "from scipy import interpolate, optimize \n",
    "\n",
    "import matplotlib as mpl\n",
    "import matplotlib.pyplot as plt \n",
    "import matplotlib.colors as colors\n",
    "from mpl_toolkits.basemap import Basemap, cm\n",
    "\n",
    "import multiprocessing as mp"
   ]
  },
  {
   "cell_type": "code",
   "execution_count": null,
   "id": "cdc6da4a",
   "metadata": {},
   "outputs": [],
   "source": [
    "def linear_splines_unif(data, num_knots=10, level_width=1):    \n",
    "    levels = np.array(range(1,100))\n",
    "    if data[-1] == 0:\n",
    "        return np.zeros(int(np.floor(100/level_width)))\n",
    "    else:\n",
    "        knot_ = np.where(data > 0)[0].min() - 1   \n",
    "        if knot_ > 1:\n",
    "            knots = np.unique(np.linspace(knot_-1, 98, num_knots-1, dtype=int))\n",
    "            knots = np.insert(knots, 0, 0)\n",
    "        else:\n",
    "            knots = np.unique(np.linspace(0, 98, num_knots, dtype=int))\n",
    "        \n",
    "    # approx = interpolate.interp1d(knots+1, data[knots], assume_sorted=True) \n",
    "    # return approx(levels[level_width-1::level_width])\n",
    "    return np.interp(levels[level_width-1::level_width], knots+1, data[knots])\n",
    "\n",
    "def linear_splines(x, num_knots, *params):\n",
    "    knot_vals = list(params[0][0:num_knots])\n",
    "    knots = list(params[0][num_knots:])\n",
    "    return np.interp(x, knots, knot_vals)\n",
    "\n",
    "def linear_splines_var(data, num_knots, level_width):\n",
    "    if data[49] == 0:\n",
    "        count[1] += 1\n",
    "        return linear_splines_unif(data, num_knots=num_knots, level_width=level_width)\n",
    "    p_0 = np.linspace(0,98,num_knots).astype(int)\n",
    "    p_0 = np.hstack([data[p_0], p_0])\n",
    "    try:\n",
    "        fit, _ = optimize.curve_fit(lambda x, *params : linear_splines(x, num_knots, params),\n",
    "                                    np.linspace(1,99,99), data, p_0)\n",
    "        count[2] += 1\n",
    "        levels = np.linspace(1,99,99)\n",
    "        levels = levels[level_width-1::level_width]\n",
    "        return np.interp(levels, fit[num_knots:], fit[:num_knots])\n",
    "    except RuntimeError:\n",
    "        count[0] += 1\n",
    "        return linear_splines_unif(data, num_knots=num_knots, level_width=level_width)"
   ]
  },
  {
   "cell_type": "code",
   "execution_count": null,
   "id": "ba30d7c6",
   "metadata": {},
   "outputs": [],
   "source": [
    "fn_grb = 'blend.t00z.qmd.f012.co.grib2'\n",
    "ds_grb = pygrib.open(fn_grb)\n",
    "lat, long = ds_grb.message(2).data()[1:]\n",
    "precip_shape = lat.shape\n",
    "global precip_levels \n",
    "precip_levels = np.zeros(shape=(99,)+precip_shape)\n",
    "for i in range(99):\n",
    "    precip_levels[i,:,:] = ds_grb.message(i+2).data()[0]"
   ]
  },
  {
   "cell_type": "code",
   "execution_count": null,
   "id": "b90cc303",
   "metadata": {},
   "outputs": [],
   "source": [
    "# level_width = 30\n",
    "# precip_levels_approx_unif = np.zeros(shape=(int(np.floor(100/level_width)),)+lat.shape)\n",
    "# for i in range(precip_shape[0]):\n",
    "#     for j in range(precip_shape[1]):\n",
    "#         precip_levels_approx_unif[:,i,j] = linear_splines_unif(data=precip_levels[:,i,j], \n",
    "#                                     num_knots=10, level_width=level_width)      \n",
    "# np.save('precip_levels_approx_unif', precip_levels_approx_unif)\n",
    "precip_levels_approx_unif = np.load('precip_levels_approx_unif.npy')"
   ]
  },
  {
   "cell_type": "code",
   "execution_count": null,
   "id": "8a62ad2d",
   "metadata": {
    "tags": []
   },
   "outputs": [],
   "source": [
    "count = [0,0,0]\n",
    "level_width = 30\n",
    "global precip_levels_approx_var\n",
    "precip_levels_approx_var = np.zeros(shape=(int(np.floor(100/level_width)),)+lat.shape)\n",
    "# for i in range(precip_shape[0]):\n",
    "#     for j in range(precip_shape[1]):\n",
    "#         precip_levels_approx_var[:,i,j] = linear_splines_var(precip_levels[:,i,j], 10, level_width)\n",
    "#         if sum(count) in [100000, 500000, 1000000, 1500000, 2000000, 2500000, 3000000, 3500000]:\n",
    "#             print(sum(count),lat.shape[0]*lat.shape[1])\n",
    "# np.save('precip_levels_approx_var', precip_levels_approx_var)\n",
    "precip_levels_approx_var = np.load('precip_levels_approx_var.npy')"
   ]
  },
  {
   "cell_type": "code",
   "execution_count": null,
   "id": "c46f781b",
   "metadata": {},
   "outputs": [],
   "source": [
    "# graphing using basemap\n",
    "\n",
    "def Basemap_plot(data, long, lat, var_name='Precipitation', diff=False, levels=False):\n",
    "\n",
    "    map = Basemap(llcrnrlon=-123.,llcrnrlat=20., \n",
    "                   urcrnrlon=-59., urcrnrlat=48., \n",
    "                   projection='lcc', \n",
    "                   lat_1=38.5,\n",
    "                   lat_0=38.5,\n",
    "                   lon_0=-97.5,\n",
    "                   resolution='l')\n",
    "\n",
    "    # draw coastlines, country boundaries, fill continents\n",
    "    map.drawcoastlines(linewidth=0.25)\n",
    "    map.drawcountries(linewidth=0.25)\n",
    "    map.fillcontinents(color='xkcd:white',lake_color='xkcd:blue')\n",
    "\n",
    "\n",
    "\n",
    "    # draw the edge of the map projection region (the projection limb)\n",
    "    map.drawmapboundary(fill_color='xkcd:blue')\n",
    "    map.drawstates()\n",
    "\n",
    "    # draw lat/lon grid lines every 30 degrees.\n",
    "    map.drawmeridians(np.arange(-180,180,30))\n",
    "    map.drawparallels(np.arange(-90,90,30))\n",
    "\n",
    "    x, y = map(long, lat)\n",
    "    \n",
    "    if diff:\n",
    "        data_abs_max = int(np.ceil(max(np.abs(data.min()),np.abs(data.max()))))\n",
    "        if not(isinstance(levels, list) or isinstance(levels, np.ndarray)):\n",
    "            levels = list(range(-data_abs_max,data_abs_max+1))\n",
    "        plt.pcolormesh(x, y, data,\n",
    "                       norm=colors.Normalize(vmin=levels[0], vmax=levels[-1]),\n",
    "                       cmap='seismic', shading='nearest')\n",
    "        # map.contourf(x, y, data, 16, levels=levels, cmap='seismic')\n",
    "        map.colorbar()\n",
    "    else:\n",
    "        map.contour(x, y, data, 16, linewidths=1.5)\n",
    "    plt.title(var_name)\n",
    "    plt.show()"
   ]
  },
  {
   "cell_type": "code",
   "execution_count": null,
   "id": "32b624d9",
   "metadata": {},
   "outputs": [],
   "source": [
    "var_name = 'Precipitation at Probability Level 90%'\n",
    "Basemap_plot(data=precip_levels[90-1,:,:], long=long, lat=lat, var_name=var_name)"
   ]
  },
  {
   "cell_type": "code",
   "execution_count": null,
   "id": "753bae84",
   "metadata": {},
   "outputs": [],
   "source": [
    "var_name = 'Difference at Probability Level 90%'\n",
    "diff = precip_levels_approx_var[2,:,:]-precip_levels[90-1,:,:]\n",
    "Basemap_plot(data=diff, long=long, lat=lat, var_name=var_name, diff=True, levels=list(range(-1,1+1)))"
   ]
  },
  {
   "cell_type": "code",
   "execution_count": null,
   "id": "884b6a23-b289-4da4-95e0-75bfb40b13f3",
   "metadata": {},
   "outputs": [],
   "source": []
  },
  {
   "cell_type": "code",
   "execution_count": null,
   "id": "eb742eb2-b3fd-4b9f-a4e6-c7729407cdc7",
   "metadata": {},
   "outputs": [],
   "source": []
  },
  {
   "cell_type": "code",
   "execution_count": null,
   "id": "a57ee60b-2b51-4a5f-be98-c0963ad94d96",
   "metadata": {},
   "outputs": [],
   "source": [
    "def wrap(row):\n",
    "    i = row\n",
    "    for j in range(lat.shape[1]):\n",
    "        precip_levels_approx_var[:,i,j] = linear_splines_var(precip_levels[:,i,j],10,30)"
   ]
  },
  {
   "cell_type": "code",
   "execution_count": null,
   "id": "f67c55d0-0558-4542-a9c3-07ef17466643",
   "metadata": {},
   "outputs": [],
   "source": [
    "if __name__ == '__main__':\n",
    "    pool = mp.Pool(processes = 16)\n",
    "    #pool.map_async(wrap, (range(lat.shape[0]),range(lat.shape[1])))\n",
    "    pool.map_async(wrap, np.array(range(lat.shape[0])))\n",
    "    pool.close()\n",
    "    pool.join()"
   ]
  },
  {
   "cell_type": "code",
   "execution_count": null,
   "id": "960b3eed-4c41-4ab5-b726-4f273bc7f16d",
   "metadata": {},
   "outputs": [],
   "source": []
  },
  {
   "cell_type": "code",
   "execution_count": null,
   "id": "2babede7-67d6-4725-bcff-162dceff6b42",
   "metadata": {},
   "outputs": [],
   "source": []
  },
  {
   "cell_type": "code",
   "execution_count": null,
   "id": "a341d7fa-91bf-4a71-b5a5-bb364578b286",
   "metadata": {},
   "outputs": [],
   "source": []
  },
  {
   "cell_type": "code",
   "execution_count": null,
   "id": "4adcc6f2-a67b-497a-ac0d-bf8d9c8deeee",
   "metadata": {},
   "outputs": [],
   "source": []
  },
  {
   "cell_type": "code",
   "execution_count": null,
   "id": "e036b523-55ed-489f-b193-eb4f0998205f",
   "metadata": {},
   "outputs": [],
   "source": []
  },
  {
   "cell_type": "code",
   "execution_count": null,
   "id": "764dc5a6-913f-4417-bc42-7b6e07b2e358",
   "metadata": {},
   "outputs": [],
   "source": []
  },
  {
   "cell_type": "code",
   "execution_count": null,
   "id": "eccb4627-a461-45cc-8256-ce6aaaef1ec4",
   "metadata": {},
   "outputs": [],
   "source": []
  },
  {
   "cell_type": "code",
   "execution_count": null,
   "id": "7b22db3a",
   "metadata": {},
   "outputs": [],
   "source": [
    "# loc = [int(np.random.uniform(0,lat.shape[0]-1)),int(np.random.uniform(0,lat.shape[1]-1))]\n",
    "loc = [61,234]\n",
    "plt.figure()\n",
    "plt.plot(np.linspace(1,99,99),precip_levels[:,loc[0],loc[1]])\n",
    "plt.title(f'CDF a latitude {lat[loc[0],loc[1]]} and longitude {long[loc[0],loc[1]]}')\n",
    "plt.xlabel('probability levels')\n",
    "plt.ylabel('mm of precipitation')\n",
    "plt.show()"
   ]
  },
  {
   "cell_type": "code",
   "execution_count": null,
   "id": "6dabd134",
   "metadata": {},
   "outputs": [],
   "source": [
    "# loc = [int(np.random.uniform(0,lat.shape[0]-1)),int(np.random.uniform(0,lat.shape[1]-1))]\n",
    "loc = [62,235]\n",
    "plt.figure()\n",
    "plt.plot(np.linspace(1,99,99),precip_levels[:,loc[0],loc[1]])\n",
    "plt.title(f'CDF a latitude {lat[loc[0],loc[1]]} and longitude {long[loc[0],loc[1]]}')\n",
    "plt.xlabel('probability levels')\n",
    "plt.ylabel('mm of precipitation')\n",
    "plt.show()"
   ]
  },
  {
   "cell_type": "code",
   "execution_count": null,
   "id": "eae3c409",
   "metadata": {},
   "outputs": [],
   "source": [
    "# loc = [int(np.random.uniform(0,lat.shape[0]-1)),int(np.random.uniform(0,lat.shape[1]-1))]\n",
    "loc = [61,239]\n",
    "plt.figure()\n",
    "plt.plot(np.linspace(1,99,99),precip_levels[:,loc[0],loc[1]])\n",
    "plt.title(f'CDF a latitude {lat[loc[0],loc[1]]} and longitude {long[loc[0],loc[1]]}')\n",
    "plt.xlabel('probability levels')\n",
    "plt.ylabel('mm of precipitation')\n",
    "plt.show()"
   ]
  },
  {
   "cell_type": "code",
   "execution_count": null,
   "id": "937f0771-bd57-4316-9f19-d06a87c4d4ae",
   "metadata": {},
   "outputs": [],
   "source": []
  },
  {
   "cell_type": "code",
   "execution_count": null,
   "id": "debd7e7a-28cd-4b33-99df-1958724520bf",
   "metadata": {},
   "outputs": [],
   "source": []
  },
  {
   "cell_type": "code",
   "execution_count": null,
   "id": "6bfd845d-731f-4fbc-a447-a8d9585741d0",
   "metadata": {},
   "outputs": [],
   "source": []
  },
  {
   "cell_type": "code",
   "execution_count": null,
   "id": "22cf52f6-02da-4109-945a-4afff6230f38",
   "metadata": {},
   "outputs": [],
   "source": []
  },
  {
   "cell_type": "code",
   "execution_count": null,
   "id": "a0bb4bd4-16ed-4950-8dc5-ef236e983b43",
   "metadata": {},
   "outputs": [],
   "source": []
  }
 ],
 "metadata": {
  "kernelspec": {
   "display_name": "Python 3 (ipykernel)",
   "language": "python",
   "name": "python3"
  },
  "language_info": {
   "codemirror_mode": {
    "name": "ipython",
    "version": 3
   },
   "file_extension": ".py",
   "mimetype": "text/x-python",
   "name": "python",
   "nbconvert_exporter": "python",
   "pygments_lexer": "ipython3",
   "version": "3.9.12"
  }
 },
 "nbformat": 4,
 "nbformat_minor": 5
}
