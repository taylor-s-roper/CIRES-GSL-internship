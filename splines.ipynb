{
 "cells": [
  {
   "cell_type": "code",
   "execution_count": null,
   "id": "28ed8367",
   "metadata": {},
   "outputs": [],
   "source": [
    "import numpy as np\n",
    "import pygrib\n",
    "from scipy import interpolate, optimize \n",
    "\n",
    "import matplotlib as mpl\n",
    "import matplotlib.pyplot as plt \n",
    "import matplotlib.colors as colors\n",
    "from mpl_toolkits.basemap import Basemap, cm"
   ]
  },
  {
   "cell_type": "code",
   "execution_count": null,
   "id": "cdc6da4a",
   "metadata": {},
   "outputs": [],
   "source": [
    "def linear_splines_unif(data, num_knots=10, level_width=1):    \n",
    "    levels = np.array(range(1,100))\n",
    "    if data[-1] == 0:\n",
    "        return np.zeros(int(np.floor(100/level_width)))\n",
    "    else:\n",
    "        knot_ = np.where(data > 0)[0].min() - 1   \n",
    "        if knot_ > 1:\n",
    "            knots = np.unique(np.linspace(knot_-1, 98, num_knots-1, dtype=int))\n",
    "            knots = np.insert(knots, 0, 0)\n",
    "        else:\n",
    "            knots = np.unique(np.linspace(0, 98, num_knots, dtype=int))\n",
    "    # approx = interpolate.interp1d(knots+1, data[knots], assume_sorted=True) \n",
    "    # return approx(levels[level_width-1::level_width])\n",
    "    return np.interp(levels[level_width-1::level_width], knots+1, data[knots])\n",
    "\n",
    "def linear_splines(x, num_knots, *params):\n",
    "    knot_vals = list(params[0][0:num_knots])\n",
    "    knots = list(params[0][num_knots:])\n",
    "    knots = np.insert(knots, 0, 1)\n",
    "    knots = np.append(knots, 99)\n",
    "    return np.interp(x, knots, knot_vals)\n",
    "\n",
    "def linear_splines_var(data, num_knots, level_width):\n",
    "    if data[49] == 0:\n",
    "        count[1] += 1\n",
    "        return linear_splines_unif(data, num_knots=num_knots, level_width=level_width)\n",
    "    p_0 = np.linspace(1,99,num_knots).astype(int)[1:-1]\n",
    "    p_0 = np.hstack([data[0], data[p_0], data[-1], p_0])\n",
    "    # bounds = [1,99]*(2*num_knots - 2)\n",
    "    try:\n",
    "        fit, _ = optimize.curve_fit(lambda x, *params : linear_splines(x, num_knots, params),\n",
    "                                    np.linspace(1,99,99), data, p_0)\n",
    "        count[2] += 1\n",
    "        fit = np.insert(fit, num_knots, 1)\n",
    "        fit = np.append(fit, 99)\n",
    "        levels = np.linspace(1,99,99)\n",
    "        levels = levels[level_width-1::level_width]\n",
    "        return np.interp(levels, fit[num_knots:], fit[:num_knots])\n",
    "    except RuntimeError:\n",
    "        count[0] += 1\n",
    "        return linear_splines_unif(data, num_knots=num_knots, level_width=level_width)"
   ]
  },
  {
   "cell_type": "code",
   "execution_count": null,
   "id": "ba30d7c6",
   "metadata": {},
   "outputs": [],
   "source": [
    "fn_grb = 'blend.t00z.qmd.f012.co.grib2'\n",
    "ds_grb = pygrib.open(fn_grb)\n",
    "lat, long = ds_grb.message(2).data()[1:]\n",
    "precip_shape = lat.shape\n",
    "precip_levels = np.zeros(shape=(99,)+precip_shape)\n",
    "for i in range(99):\n",
    "    precip_levels[i,:,:] = ds_grb.message(i+2).data()[0]"
   ]
  },
  {
   "cell_type": "code",
   "execution_count": null,
   "id": "b90cc303",
   "metadata": {},
   "outputs": [],
   "source": [
    "# level_width = 30\n",
    "# precip_levels_approx = np.zeros(shape=(int(np.floor(100/level_width)),)+lat.shape)\n",
    "# for i in range(precip_shape[0]):\n",
    "#     for j in range(precip_shape[1]):\n",
    "#         precip_levels_approx[:,i,j] = linear_splines_unif(data=precip_levels[:,i,j], \n",
    "#                                     num_knots=10, return_vals=True, level_width=level_width)      \n",
    "# np.save('precip_levels_approx', precip_levels_approx)\n",
    "precip_levels_approx = np.load('precip_levels_approx.npy')"
   ]
  },
  {
   "cell_type": "code",
   "execution_count": null,
   "id": "8a62ad2d",
   "metadata": {},
   "outputs": [],
   "source": [
    "count = [0,0,0]\n",
    "level_width = 30\n",
    "precip_levels_approx_var = np.zeros(shape=(int(np.floor(100/level_width)),)+lat.shape)\n",
    "for i in range(precip_shape[0]):\n",
    "    for j in range(precip_shape[1]):\n",
    "        precip_levels_approx_var[:,i,j] = linear_splines_var(precip_levels[:,i,j], 10, level_width)\n",
    "np.save('precip_levels_approx_var', precip_levels_approx_var)\n",
    "# precip_levels_approx_var = np.load('precip_levels_approx_var.npy')"
   ]
  },
  {
   "cell_type": "code",
   "execution_count": null,
   "id": "c46f781b",
   "metadata": {},
   "outputs": [],
   "source": [
    "# graphing using basemap\n",
    "\n",
    "def Basemap_plot(data, long, lat, var_name='Precipitation', diff=False, levels=False):\n",
    "\n",
    "    map = Basemap(llcrnrlon=-123.,llcrnrlat=20., \n",
    "                   urcrnrlon=-59., urcrnrlat=48., \n",
    "                   projection='lcc', \n",
    "                   lat_1=38.5,\n",
    "                   lat_0=38.5,\n",
    "                   lon_0=-97.5,\n",
    "                   resolution='l')\n",
    "\n",
    "    # draw coastlines, country boundaries, fill continents\n",
    "    map.drawcoastlines(linewidth=0.25)\n",
    "    map.drawcountries(linewidth=0.25)\n",
    "    map.fillcontinents(color='xkcd:white',lake_color='xkcd:blue')\n",
    "\n",
    "\n",
    "\n",
    "    # draw the edge of the map projection region (the projection limb)\n",
    "    map.drawmapboundary(fill_color='xkcd:blue')\n",
    "    map.drawstates()\n",
    "\n",
    "    # draw lat/lon grid lines every 30 degrees.\n",
    "    map.drawmeridians(np.arange(-180,180,30))\n",
    "    map.drawparallels(np.arange(-90,90,30))\n",
    "\n",
    "    x, y = map(long, lat)\n",
    "    \n",
    "    if diff:\n",
    "        data_abs_max = int(np.ceil(max(np.abs(data.min()),np.abs(data.max()))))\n",
    "        if not(isinstance(levels, list) or isinstance(levels, np.ndarray)):\n",
    "            levels = list(range(-data_abs_max,data_abs_max+1))\n",
    "        plt.pcolormesh(x, y, data,\n",
    "                       norm=colors.Normalize(vmin=-data_abs_max, vmax=data_abs_max),\n",
    "                       cmap='seismic', shading='nearest')\n",
    "        # map.contourf(x, y, data, 16, levels=levels, cmap='seismic')\n",
    "        map.colorbar()\n",
    "    else:\n",
    "        map.contour(x, y, data, 16, linewidths=1.5)\n",
    "    plt.title(var_name)\n",
    "    plt.show()"
   ]
  },
  {
   "cell_type": "code",
   "execution_count": null,
   "id": "32b624d9",
   "metadata": {},
   "outputs": [],
   "source": [
    "var_name = 'Precipitation at Probability Level 30%'\n",
    "Basemap_plot(data=precip_levels[30-1,:,:], long=long, lat=lat, var_name=var_name)"
   ]
  },
  {
   "cell_type": "code",
   "execution_count": null,
   "id": "753bae84",
   "metadata": {},
   "outputs": [],
   "source": [
    "var_name = 'Difference at Probability Level 90%'\n",
    "diff = precip_levels_approx[2,:,:]-precip_levels[90-1,:,:]\n",
    "Basemap_plot(data=diff, long=long, lat=lat, var_name=var_name, diff=True)"
   ]
  },
  {
   "cell_type": "code",
   "execution_count": null,
   "id": "7a150014",
   "metadata": {},
   "outputs": [],
   "source": []
  },
  {
   "cell_type": "code",
   "execution_count": null,
   "id": "beebf7b2",
   "metadata": {},
   "outputs": [],
   "source": []
  },
  {
   "cell_type": "code",
   "execution_count": null,
   "id": "7b22db3a",
   "metadata": {},
   "outputs": [],
   "source": [
    "loc = [int(np.random.uniform(0,lat.shape[0]-1)),int(np.random.uniform(0,lat.shape[1]-1))]\n",
    "plt.figure()\n",
    "plt.plot(np.linspace(1,99,99),precip_levels[:,loc[0],loc[1]])\n",
    "plt.title(f'CDF a latitude {lat[loc[0],loc[1]]} and longitude {long[loc[0],loc[1]]}')\n",
    "plt.xlabel('probability levels')\n",
    "plt.ylabel('mm of precipitation')\n",
    "plt.show()"
   ]
  },
  {
   "cell_type": "code",
   "execution_count": null,
   "id": "6dabd134",
   "metadata": {},
   "outputs": [],
   "source": []
  },
  {
   "cell_type": "code",
   "execution_count": null,
   "id": "eae3c409",
   "metadata": {},
   "outputs": [],
   "source": []
  },
  {
   "cell_type": "code",
   "execution_count": null,
   "id": "9ef2c424",
   "metadata": {},
   "outputs": [],
   "source": []
  },
  {
   "cell_type": "code",
   "execution_count": null,
   "id": "5d3b4746",
   "metadata": {},
   "outputs": [],
   "source": []
  },
  {
   "cell_type": "code",
   "execution_count": null,
   "id": "25355cac",
   "metadata": {},
   "outputs": [],
   "source": []
  },
  {
   "cell_type": "code",
   "execution_count": null,
   "id": "19711121",
   "metadata": {},
   "outputs": [],
   "source": []
  },
  {
   "cell_type": "code",
   "execution_count": null,
   "id": "dfe19aa6",
   "metadata": {},
   "outputs": [],
   "source": []
  },
  {
   "cell_type": "code",
   "execution_count": null,
   "id": "2f1dbcb0",
   "metadata": {},
   "outputs": [],
   "source": []
  }
 ],
 "metadata": {
  "kernelspec": {
   "display_name": "Python 3 (ipykernel)",
   "language": "python",
   "name": "python3"
  },
  "language_info": {
   "codemirror_mode": {
    "name": "ipython",
    "version": 3
   },
   "file_extension": ".py",
   "mimetype": "text/x-python",
   "name": "python",
   "nbconvert_exporter": "python",
   "pygments_lexer": "ipython3",
   "version": "3.9.5"
  }
 },
 "nbformat": 4,
 "nbformat_minor": 5
}
