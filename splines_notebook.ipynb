{
 "cells": [
  {
   "cell_type": "code",
   "execution_count": 1,
   "id": "24fc43ae",
   "metadata": {},
   "outputs": [],
   "source": [
    "import numpy as np\n",
    "import pygrib\n",
    "from scipy import interpolate, optimize \n",
    "\n",
    "import matplotlib as mpl\n",
    "import matplotlib.pyplot as plt \n",
    "import matplotlib.colors as colors\n",
    "from mpl_toolkits.basemap import Basemap, cm\n",
    "\n",
    "import multiprocessing as mp"
   ]
  },
  {
   "cell_type": "code",
   "execution_count": 2,
   "id": "1d9517d6",
   "metadata": {},
   "outputs": [],
   "source": [
    "# linear spline functions\n",
    "\n",
    "def linear_splines_unif(data, num_knots=10, level_width=1):   \n",
    "    '''\n",
    "    Calculates piecewise linear splines for quantile data using specified number of \n",
    "    knots uniformly spaced and returning interpolated approximation at every \n",
    "    quantile level with level_width.\n",
    "    ''' \n",
    "\n",
    "    # calculating where cdf starts being nonzero (all zero cdf's should not be inputted)\n",
    "    levels = np.array(range(1,100))\n",
    "    knot_ = np.where(data > 0)[0].min() - 1   \n",
    "    if knot_ > 1:\n",
    "        knots = np.unique(np.linspace(knot_-1, 98, num_knots-1, dtype=int))\n",
    "        knots = np.insert(knots, 0, 0)\n",
    "    else:\n",
    "        knots = np.unique(np.linspace(0, 98, num_knots, dtype=int))\n",
    "        \n",
    "    # approx = interpolate.interp1d(knots+1, data[knots], assume_sorted=True) \n",
    "    # return approx(levels[level_width-1::level_width])\n",
    "    return np.interp(levels[level_width-1::level_width], knots+1, data[knots])\n",
    "\n",
    "def linear_splines(x, num_knots, *params):\n",
    "    '''\n",
    "    Function to be used in scipy.optimize.curve_fit in linear_splines_var function.\n",
    "    '''\n",
    "\n",
    "    knot_vals = list(params[0][0:num_knots])\n",
    "    knots = list(params[0][num_knots:])\n",
    "    return np.interp(x, knots, knot_vals)\n",
    "\n",
    "def linear_splines_var(data, num_knots, level_width):\n",
    "    '''\n",
    "    Calculates piecewise linear splines for quantile data using specified number of\n",
    "    knots with optimized placement and returning interpolated approximation at every\n",
    "    quantile level with level_width.\n",
    "    '''\n",
    "#     checking if cdf is all zero\n",
    "#     if data[-1] == 0:\n",
    "#         return np.zeros(int(np.floor(100/level_width)))\n",
    "\n",
    "    # setting up intial value of parameters\n",
    "    p_0 = np.linspace(0,98,num_knots).astype(int)\n",
    "    p_0 = np.hstack([data[p_0], p_0])\n",
    "\n",
    "    # try to fit parameters with RuntimeError exception that returns linear_splines_unif\n",
    "    # that uses uniformly space knots\n",
    "    try:\n",
    "        fit, _ = optimize.curve_fit(lambda x, *params : linear_splines(x, num_knots, params), \n",
    "                np.linspace(1,99,99), data, p_0)\n",
    "        levels = np.linspace(1,99,99)\n",
    "        levels = levels[level_width-1::level_width]\n",
    "        return np.interp(levels, fit[num_knots:], fit[:num_knots])\n",
    "    except RuntimeError:\n",
    "        return linear_splines_unif(data, num_knots=num_knots, level_width=level_width)"
   ]
  },
  {
   "cell_type": "code",
   "execution_count": 7,
   "id": "98cc459e",
   "metadata": {},
   "outputs": [],
   "source": [
    "# read in grib file\n",
    "fn_grb = 'data/blend20220324.t12z.qmd.f018.co.grib2'\n",
    "# fn_grb = 'data/blend20220210.t12z.qmd.f018.co.grib2'\n",
    "# fn_grb = 'data/blend.20220525t12z.qmd.f018.co.grib2'\n",
    "ds_grb = pygrib.open(fn_grb)\n",
    "\n",
    "# latitude and longitude grid values\n",
    "lat, long = ds_grb.message(2).data()[1:]\n",
    "\n",
    "# extracting data\n",
    "precip_shape = lat.shape\n",
    "precip_levels = np.zeros(shape=(99,)+precip_shape)\n",
    "temp_levels = precip_levels\n",
    "for i in range(99):\n",
    "    precip_levels[i,:,:] = ds_grb.message(i+2).data()[0] # ACPC:surface:12-18 hour acc fcst\n",
    "    temp_levels[i,:,:] = ds_grb.message(i+215).data()[0] # TMP:2 m above ground:0-18 hour max"
   ]
  },
  {
   "cell_type": "code",
   "execution_count": null,
   "id": "6219424b-4fdb-485c-b791-ded4cac24c3a",
   "metadata": {},
   "outputs": [],
   "source": [
    "# checking for monotonicity\n",
    "for i in range(lat.shape[0]):\n",
    "    for j in range(lat.shape[1]):\n",
    "        for level in range(99-1):\n",
    "            if precip_levels[level,i,j] > precip_levels[level+1,i,j]:\n",
    "                print(f'Issue with precip at {i}, {j}.')\n",
    "            if temp_levels[level,i,j] > temp_levels[level+1,i,j]:\n",
    "                print(f'Issue with temp at {i}, {j}.')"
   ]
  },
  {
   "cell_type": "code",
   "execution_count": null,
   "id": "d5e70a22",
   "metadata": {},
   "outputs": [],
   "source": [
    "# level_width = 30\n",
    "# precip_levels_approx_unif = np.zeros(shape=(int(np.floor(100/level_width)),)+lat.shape)\n",
    "# for i in range(precip_shape[0]):\n",
    "#     for j in range(precip_shape[1]):\n",
    "#         precip_levels_approx_unif[:,i,j] = linear_splines_unif(data=precip_levels[:,i,j], \n",
    "#                                     num_knots=10, level_width=level_width)      \n",
    "# np.save('precip_levels_approx_unif', precip_levels_approx_unif)\n",
    "precip_levels_approx_unif = np.load('precip_levels_approx_unif.npy')"
   ]
  },
  {
   "cell_type": "code",
   "execution_count": null,
   "id": "308de25d",
   "metadata": {
    "tags": []
   },
   "outputs": [],
   "source": [
    "count = [0,0,0]\n",
    "level_width = 30\n",
    "global precip_levels_approx_var\n",
    "precip_levels_approx_var = np.zeros(shape=(int(np.floor(100/level_width)),)+lat.shape)\n",
    "# for i in range(precip_shape[0]):\n",
    "#     for j in range(precip_shape[1]):\n",
    "#         precip_levels_approx_var[:,i,j] = linear_splines_var(precip_levels[:,i,j], 10, level_width)\n",
    "#         if sum(count) in [100000, 500000, 1000000, 1500000, 2000000, 2500000, 3000000, 3500000]:\n",
    "#             print(sum(count),lat.shape[0]*lat.shape[1])\n",
    "# np.save('precip_levels_approx_var', precip_levels_approx_var)\n",
    "precip_levels_approx_var = np.load('precip_levels_approx_var.npy')"
   ]
  },
  {
   "cell_type": "code",
   "execution_count": null,
   "id": "00c68135-430f-45e4-88a5-2ca03f05854e",
   "metadata": {},
   "outputs": [],
   "source": [
    "precip_levels_approx_var = np.load('precip_levels_approx_var.npy')\n",
    "precip_levels_approx_var_ = np.load('precip_levels_approx_var_.npy')"
   ]
  },
  {
   "cell_type": "code",
   "execution_count": null,
   "id": "5854d6b6",
   "metadata": {},
   "outputs": [],
   "source": [
    "# graphing using basemap\n",
    "\n",
    "def Basemap_plot(data, long, lat, var_name='Precipitation', diff=False, levels=False):\n",
    "\n",
    "    map = Basemap(llcrnrlon=-123.,llcrnrlat=20., \n",
    "                   urcrnrlon=-59., urcrnrlat=48., \n",
    "                   projection='lcc', \n",
    "                   lat_1=38.5,\n",
    "                   lat_0=38.5,\n",
    "                   lon_0=-97.5,\n",
    "                   resolution='l')\n",
    "\n",
    "    # draw coastlines, country boundaries, fill continents\n",
    "    map.drawcoastlines(linewidth=0.25)\n",
    "    map.drawcountries(linewidth=0.25)\n",
    "    map.fillcontinents(color='xkcd:white',lake_color='xkcd:blue')\n",
    "\n",
    "\n",
    "\n",
    "    # draw the edge of the map projection region (the projection limb)\n",
    "    map.drawmapboundary(fill_color='xkcd:blue')\n",
    "    map.drawstates()\n",
    "\n",
    "    # draw lat/lon grid lines every 30 degrees.\n",
    "    map.drawmeridians(np.arange(-180,180,30))\n",
    "    map.drawparallels(np.arange(-90,90,30))\n",
    "\n",
    "    x, y = map(long, lat)\n",
    "    \n",
    "    if diff:\n",
    "        data_abs_max = int(np.ceil(max(np.abs(data.min()),np.abs(data.max()))))\n",
    "        if not(isinstance(levels, list) or isinstance(levels, np.ndarray)):\n",
    "            levels = list(range(-data_abs_max,data_abs_max+1))\n",
    "        plt.pcolormesh(x, y, data,\n",
    "                       norm=colors.Normalize(vmin=levels[0], vmax=levels[-1]),\n",
    "                       cmap='seismic', shading='nearest')\n",
    "        # map.contourf(x, y, data, 16, levels=levels, cmap='seismic')\n",
    "        map.colorbar()\n",
    "    else:\n",
    "        map.contour(x, y, data, 16, linewidths=1.5)\n",
    "    plt.title(var_name)\n",
    "    plt.show()"
   ]
  },
  {
   "cell_type": "code",
   "execution_count": null,
   "id": "992874d3",
   "metadata": {},
   "outputs": [],
   "source": [
    "var_name = 'Precipitation at Probability Level 90%'\n",
    "Basemap_plot(data=precip_levels[90-1,:,:], long=long, lat=lat, var_name=var_name)"
   ]
  },
  {
   "cell_type": "code",
   "execution_count": null,
   "id": "133b7d7e",
   "metadata": {},
   "outputs": [],
   "source": [
    "var_name = 'Difference at Probability Level 90%'\n",
    "diff = precip_levels_approx_var_[2,:,:]-precip_levels[90-1,:,:]\n",
    "Basemap_plot(data=diff, long=long, lat=lat, var_name=var_name, diff=True)"
   ]
  },
  {
   "cell_type": "code",
   "execution_count": null,
   "id": "08d2088f",
   "metadata": {},
   "outputs": [],
   "source": []
  },
  {
   "cell_type": "code",
   "execution_count": null,
   "id": "56cb9852",
   "metadata": {},
   "outputs": [],
   "source": []
  },
  {
   "cell_type": "code",
   "execution_count": null,
   "id": "3455e653",
   "metadata": {},
   "outputs": [],
   "source": []
  },
  {
   "cell_type": "code",
   "execution_count": null,
   "id": "12db8edf",
   "metadata": {},
   "outputs": [],
   "source": []
  },
  {
   "cell_type": "code",
   "execution_count": null,
   "id": "71862820",
   "metadata": {},
   "outputs": [],
   "source": [
    "precip_levels_flat = np.zeros(shape=(99,lat.shape[0]*lat.shape[1]))\n",
    "for element in range(lat.shape[0]*lat.shape[1]):\n",
    "    i = int(np.floor(element/lat.shape[1]))\n",
    "    j = int(element % lat.shape[1])\n",
    "    precip_levels_flat[:,element] = precip_levels[:,i,j]"
   ]
  },
  {
   "cell_type": "code",
   "execution_count": null,
   "id": "7e85c37f-8278-4d02-b61e-1b55ef2675d1",
   "metadata": {},
   "outputs": [],
   "source": [
    "nonzero_idx = np.where(precip_levels_flat[-1,:] != 0)\n",
    "nonzero_idx[0].shape[0]\n",
    "lat.shape[1]"
   ]
  },
  {
   "cell_type": "code",
   "execution_count": null,
   "id": "576922a4",
   "metadata": {},
   "outputs": [],
   "source": [
    "nonzero_idx = np.where(precip_levels[-1,:,:] != 0)\n",
    "n = 7906\n",
    "# n = int(np.random.uniform(0,nonzero_idx[0].shape[0]-1))\n",
    "i = nonzero_idx[0][n]\n",
    "j = nonzero_idx[1][n]\n",
    "data_max = precip_levels[:,i,j].max()\n",
    "print(data_max)"
   ]
  },
  {
   "cell_type": "code",
   "execution_count": null,
   "id": "9d01ebfb",
   "metadata": {},
   "outputs": [],
   "source": [
    "approx = linear_splines_var(precip_levels[:,i,j], 10, 1)\n",
    "approx_ = linear_splines_var(precip_levels[:,i,j], 10, 30)"
   ]
  },
  {
   "cell_type": "code",
   "execution_count": null,
   "id": "0b91d154",
   "metadata": {},
   "outputs": [],
   "source": [
    "levels = np.linspace(1,99,99)\n",
    "plt.plot(precip_levels[:,i,j], levels, c='xkcd:black', label='orig')\n",
    "plt.plot(precip_levels_approx_var_[:,i,j], [30,60,90], c='xkcd:red', label='old_code')\n",
    "plt.plot(approx_, [30,60,90], c='xkcd:orange', label='new_same_level')\n",
    "plt.plot(approx, levels, c='xkcd:blue', label='all_levels')\n",
    "plt.legend()"
   ]
  },
  {
   "cell_type": "code",
   "execution_count": null,
   "id": "f694f993",
   "metadata": {},
   "outputs": [],
   "source": [
    "precip_levels_approx_var_.shape"
   ]
  },
  {
   "cell_type": "code",
   "execution_count": null,
   "id": "86ae1c22",
   "metadata": {},
   "outputs": [],
   "source": [
    "idx1 = np.where(precip_levels[-2,:,:] != 0)\n",
    "for n in range(idx1[0].shape[0]):\n",
    "    i = idx1[0][n]\n",
    "    j = idx1[1][n]\n",
    "    if precip_levels[-1,i,j] == 0:\n",
    "        print(i,j)"
   ]
  },
  {
   "cell_type": "code",
   "execution_count": null,
   "id": "d357862b-f321-45e5-a4e7-915487fe4c20",
   "metadata": {},
   "outputs": [],
   "source": [
    "i=62\n",
    "j=457\n",
    "plt.plot(np.linspace(1,99,99),precip_levels[:,i,j])\n",
    "plt.xlabel('prob level')\n",
    "plt.ylabel('mm of precip')"
   ]
  },
  {
   "cell_type": "code",
   "execution_count": null,
   "id": "4142340b-01e8-4362-bcca-d4abfcfe2853",
   "metadata": {},
   "outputs": [],
   "source": [
    "precip_levels[[96,97,98],62,457]"
   ]
  },
  {
   "cell_type": "code",
   "execution_count": null,
   "id": "29fa5dbd-c2bc-4ec1-b5c4-2d877e5ee745",
   "metadata": {},
   "outputs": [],
   "source": [
    "idx2 = np.where(precip_idx1[-1,:,:] == 0)\n",
    "precip_idx2 = precip_idx1[:,idx2[0],idx2[1]]"
   ]
  },
  {
   "cell_type": "code",
   "execution_count": null,
   "id": "7fb24071-c529-4d32-b4b2-2557de9f4561",
   "metadata": {},
   "outputs": [],
   "source": [
    "precip_idx1.shape"
   ]
  },
  {
   "cell_type": "code",
   "execution_count": null,
   "id": "47a84919-bd4c-4605-8833-6d41e05e7ee4",
   "metadata": {},
   "outputs": [],
   "source": []
  }
 ],
 "metadata": {
  "kernelspec": {
   "display_name": "Python 3 (ipykernel)",
   "language": "python",
   "name": "python3"
  },
  "language_info": {
   "codemirror_mode": {
    "name": "ipython",
    "version": 3
   },
   "file_extension": ".py",
   "mimetype": "text/x-python",
   "name": "python",
   "nbconvert_exporter": "python",
   "pygments_lexer": "ipython3",
   "version": "3.10.5"
  }
 },
 "nbformat": 4,
 "nbformat_minor": 5
}
