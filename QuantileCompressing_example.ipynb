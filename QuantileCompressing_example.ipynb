{
 "cells": [
  {
   "cell_type": "code",
   "execution_count": 1,
   "id": "6332cad0-ae0f-4987-9ccb-27f06bbeda00",
   "metadata": {},
   "outputs": [],
   "source": [
    "import numpy as np\n",
    "import matplotlib.pyplot as plt \n",
    "from QuantileCompression import QuantileCompression as qc"
   ]
  },
  {
   "cell_type": "code",
   "execution_count": 2,
   "id": "eff76318-b71a-4be2-8c76-9d1796d7f5af",
   "metadata": {},
   "outputs": [],
   "source": [
    "# initialize qc for precipitation which is zero inflated\n",
    "# qc_precip = qc(zero_inflated=True)\n",
    "\n",
    "# initialize qc for temperature data which leaves out first 4 quantile levels\n",
    "qc_temp = qc(shift=4)"
   ]
  },
  {
   "cell_type": "code",
   "execution_count": 3,
   "id": "8ac48815-6257-473e-9475-20da302ea2fe",
   "metadata": {},
   "outputs": [],
   "source": [
    "# read in grib data from local file path; note that precipitation data is masked via mask_data parameter\n",
    "# qc_precip.read_data(file_path='data/20220324/blend20220324.t12z.qmd.f018.co.grib2', msg_start=2, mask_data=True)\n",
    "qc_temp.read_data(file_path='data/20220324/blend20220324.t12z.qmd.f018.co.grib2', msg_start=213)"
   ]
  },
  {
   "cell_type": "code",
   "execution_count": 4,
   "id": "a05730ce-e210-4edc-b55f-5340812fbd69",
   "metadata": {},
   "outputs": [],
   "source": [
    "# data is compressed using method compress_data with parameter compress_type being either 'unif' (default) for unifomrly spaced nodes, 'var' for variably spaced nodes using unconstrained approach, 'var_const' for\n",
    "# variably spaced nodes using constrained approach, or 'adapt' using a mix of methods according to whichever method either meets error tolerance or has minimum mean absolute error\n",
    "\n",
    "# two lines below is the code originally ran to produce compressed data - takes some time\n",
    "# compressed_precip = qc_precip.compress_data(compress_type='adapt')\n",
    "# compressed_temp = qc_temp.compress_data(compress_type='adapt')\n",
    "\n",
    "#compressed_precip = np.load('compressed_precip', allow_pickle=True)\n",
    "compressed_temp = np.load('compressed_temp', allow_pickle=True)"
   ]
  },
  {
   "cell_type": "code",
   "execution_count": 5,
   "id": "ae95f6af-230f-45d6-922f-e34d99029aad",
   "metadata": {},
   "outputs": [],
   "source": [
    "# decompress compressed data\n",
    "# decompressed_precip = qc_precip.decompress_data(compressed_precip)\n",
    "decompressed_temp = qc_temp.decompress_data(compressed_temp)"
   ]
  },
  {
   "cell_type": "code",
   "execution_count": 6,
   "id": "994b09fe-d790-4c8e-9517-7a1dad017b3b",
   "metadata": {},
   "outputs": [
    {
     "name": "stdout",
     "output_type": "stream",
     "text": [
      "max absolute error = 0.18458506125173288\n",
      "max mean absolute error over grid = 0.009857515484109694\n",
      "max mean squared error over grid = 0.0009803051037624432\n",
      "average max absolute error over grid = 0.06241556994714556\n",
      "average mean absolute error over grid = 0.0011142597325450086\n",
      "average mean squared error over grid = 3.019264870296931e-05\n"
     ]
    }
   ],
   "source": [
    "# printing error summaries\n",
    "# qc_precip.error_summaries(decompressed_precip)\n",
    "qc_temp.error_summaries(decompressed_temp)"
   ]
  },
  {
   "cell_type": "code",
   "execution_count": 7,
   "id": "318b17eb-59a0-4e4b-85b4-f5ec680dcf37",
   "metadata": {},
   "outputs": [],
   "source": [
    "# setting idx for viewing data\n",
    "# idx_precip = np.where(qc_precip.data[-1,:,:] != 0)\n",
    "idx_temp = np.where(qc_temp.data[-1,:,:] != 0)"
   ]
  },
  {
   "cell_type": "code",
   "execution_count": 8,
   "id": "224a7578-5e45-41ec-917b-10e50ad5d3b9",
   "metadata": {},
   "outputs": [],
   "source": [
    "# plot original vs approximate data for precipitation at random grid points\n",
    "# n = np.random.randint(0, idx_precip[0].shape[0]-1)\n",
    "# i = idx_precip[0][n]\n",
    "# j = idx_precip[1][n]\n",
    "# while qc_precip.mask[-1,i,j] != 0:\n",
    "#     n = np.random.randint(0, idx_precip[0].shape[0]-1)\n",
    "#     i = idx_precip[0][n]\n",
    "#     j = idx_precip[1][n]\n",
    "# qs = np.linspace(1,99,99)/100\n",
    "# plt.plot(qs, qc_precip.data[:,i,j], c='xkcd:black', label='orig')\n",
    "# plt.plot(qs, decompressed_precip[:,i,j], c='xkcd:red', label='approx')\n",
    "# plt.legend()"
   ]
  },
  {
   "cell_type": "code",
   "execution_count": 11,
   "id": "7081ee46-05fd-4857-8da4-93dd56f6ed86",
   "metadata": {},
   "outputs": [
    {
     "data": {
      "text/plain": [
       "<matplotlib.legend.Legend at 0x7f38d5a89810>"
      ]
     },
     "execution_count": 11,
     "metadata": {},
     "output_type": "execute_result"
    },
    {
     "data": {
      "image/png": "[encoded data removed]",
      "text/plain": [
       "<Figure size 432x288 with 1 Axes>"
      ]
     },
     "metadata": {
      "needs_background": "light"
     },
     "output_type": "display_data"
    }
   ],
   "source": [
    "# plot original vs approximate data for temperature at random grid points\n",
    "n = np.random.randint(0, idx_temp[0].shape[0]-1)\n",
    "i = idx_temp[0][n]\n",
    "j = idx_temp[1][n]\n",
    "qs = np.linspace(1,99,99)[qc_temp.shift:]/100\n",
    "plt.plot(qs, qc_temp.data[:,i,j], c='xkcd:black', label='orig')\n",
    "plt.plot(qs, decompressed_temp[:,i,j], c='xkcd:red', label='approx')\n",
    "plt.legend()"
   ]
  }
 ],
 "metadata": {
  "kernelspec": {
   "display_name": "Python 3.9.9 64-bit",
   "language": "python",
   "name": "python3"
  },
  "language_info": {
   "codemirror_mode": {
    "name": "ipython",
    "version": 3
   },
   "file_extension": ".py",
   "mimetype": "text/x-python",
   "name": "python",
   "nbconvert_exporter": "python",
   "pygments_lexer": "ipython3",
   "version": "3.9.9"
  },
  "vscode": {
   "interpreter": {
    "hash": "e7370f93d1d0cde622a1f8e1c04877d8463912d04d973331ad4851f04de6915a"
   }
  }
 },
 "nbformat": 4,
 "nbformat_minor": 5
}
