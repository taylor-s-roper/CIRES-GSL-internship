{
 "cells": [
  {
   "cell_type": "code",
   "execution_count": null,
   "id": "482752cb-0604-4071-8387-5a4f0e091b00",
   "metadata": {},
   "outputs": [],
   "source": [
    "import pygrib\n",
    "import numpy as np\n",
    "from scipy.integrate import quadrature as quad\n",
    "from scipy.stats import gamma\n",
    "import matplotlib.pyplot as plt"
   ]
  },
  {
   "cell_type": "code",
   "execution_count": null,
   "id": "6550ddf6-3063-44bc-bb7c-c902ae42f078",
   "metadata": {},
   "outputs": [],
   "source": [
    "# read in grib file\n",
    "month = 'jan'\n",
    "if month == 'jan':\n",
    "    date = '20220111'\n",
    "    lead_time = '00'\n",
    "    forecast_time = '018'\n",
    "elif month == 'march':\n",
    "    date = '20220324'\n",
    "    lead_time = '12'\n",
    "    forecast_time = '018'\n",
    "elif month == 'april':\n",
    "    date = '20220425'\n",
    "    lead_time = '12'\n",
    "    forecast_time = '018'\n",
    "elif month == 'july':\n",
    "    date = '20220703'\n",
    "    lead_time = '00'\n",
    "    forecast_time = '018'\n",
    "elif month == 'sept':\n",
    "    date = '20210920'\n",
    "    lead_time = '12'\n",
    "    forecast_time = '018'\n",
    "elif month == 'oct':\n",
    "    date = '20211015'\n",
    "    lead_time = '00'\n",
    "    forecast_time = '018'\n",
    "elif month == 'dec':\n",
    "    date = '20211205'\n",
    "    lead_time = '12'\n",
    "    forecast_time = '018'\n",
    "else:\n",
    "    print('Issue with month input.')\n",
    "fn_grb = 'data/blend' + date + '.t' + lead_time + 'z.qmd.f' + forecast_time + '.co.grib2'\n",
    "ds_grb = pygrib.open(fn_grb)\n",
    "\n",
    "# latitude and longitude grid values\n",
    "lat, long = ds_grb.message(2).data()[1:]\n",
    "\n",
    "# extracting data\n",
    "precip_shape = lat.shape\n",
    "precip = np.zeros(shape=(99,)+precip_shape)\n",
    "for i in range(99):\n",
    "    precip[i,:,:] = ds_grb.message(i+2).data()[0] # ACPC:surface:12-18 hour acc fcst\n",
    "ds_grb.close()"
   ]
  },
  {
   "cell_type": "code",
   "execution_count": null,
   "id": "cb379b11-3164-44bc-b6e2-de57926cc4d1",
   "metadata": {},
   "outputs": [],
   "source": [
    "def cdf(x, data):\n",
    "    return np.interp(x, data, np.linspace(0.01, 0.99, 99))\n",
    "\n",
    "def approx_gamma_params(data):\n",
    "    loc_idx = int(np.where(data != 0)[0].min())\n",
    "    def cdf_(x):\n",
    "        return cdf(x, data)\n",
    "    def cdf_shift(x):\n",
    "        return 1-cdf_(x)\n",
    "    def x_cdf_shift(x):\n",
    "        return 2*x*(1-cdf_(x))\n",
    "    data_max = data.max()\n",
    "    mom1, _ = quad(cdf_shift, 0, data_max)\n",
    "    mom2, _ = quad(x_cdf_shift, 0, data_max)\n",
    "    mean = mom1\n",
    "    var = mom2 - mom1**2\n",
    "    shape = mean**2/var\n",
    "    scale = mean/var\n",
    "    levels = np.linspace(0.01, 0.99, 99-loc_idx)\n",
    "    # return shape, loc, scale\n",
    "    output_zeros = np.zeros(loc_idx)\n",
    "    output_gamma = gamma.ppf(levels, shape, scale=scale) \n",
    "    return np.hstack([output_zeros, output_gamma])"
   ]
  },
  {
   "cell_type": "code",
   "execution_count": null,
   "id": "7b1d7159-87b5-496b-89df-9a19ea892454",
   "metadata": {},
   "outputs": [],
   "source": [
    "# initializing output\n",
    "level_width = 30 \n",
    "precip_levels_approx_gamma = np.zeros(shape=(int(np.floor(100/level_width)),)+lat.shape)\n",
    "nonzero_idx = np.where(precip_levels[-1,:,:] != 0)"
   ]
  },
  {
   "cell_type": "code",
   "execution_count": null,
   "id": "e6d84d43-ab6a-4dc9-ab04-f5d26127719b",
   "metadata": {},
   "outputs": [],
   "source": [
    "# wrapped function for parallel processing\n",
    "def wrap(n):\n",
    "    i = nonzero_idx[0][n]\n",
    "    j = nonzero_idx[1][n]\n",
    "    precip_levels_approx_gamma[:,i,j] = approx_gamma_params(precip_levels[:,i,j])\n",
    "\n",
    "# parallel code using multiprocessing - doesn't seem to speed up code with 8 cores though!\n",
    "if __name__ == '__main__':\n",
    "    if mp.cpu_count() > 16:\n",
    "        pool = mp.Pool(processes = mp.cpu_count()-16)\n",
    "    else:\n",
    "        pool = mp.Pool(processes = np.cpu_count())\n",
    "    pool.map_async(wrap, list(range(nonzero_idx[0].shape[0])))\n",
    "    pool.close()\n",
    "    pool.join()"
   ]
  },
  {
   "cell_type": "code",
   "execution_count": null,
   "id": "977cc185-a828-412e-94d0-806badffbd28",
   "metadata": {},
   "outputs": [],
   "source": []
  },
  {
   "cell_type": "code",
   "execution_count": null,
   "id": "842659d8-d76e-403c-8a97-5160d759e43f",
   "metadata": {},
   "outputs": [],
   "source": []
  },
  {
   "cell_type": "code",
   "execution_count": null,
   "id": "872f2f31-a607-433d-8fdf-c9059e2e21d4",
   "metadata": {},
   "outputs": [],
   "source": []
  },
  {
   "cell_type": "code",
   "execution_count": null,
   "id": "c72dcd17-2218-401e-ac32-e5c02b000f4a",
   "metadata": {},
   "outputs": [],
   "source": []
  },
  {
   "cell_type": "code",
   "execution_count": null,
   "id": "fc6d260d-5b0a-409b-8960-19b5c122e638",
   "metadata": {},
   "outputs": [],
   "source": []
  },
  {
   "cell_type": "code",
   "execution_count": null,
   "id": "4c09eb3e-48eb-46f9-902e-88895d6cccf5",
   "metadata": {},
   "outputs": [],
   "source": []
  },
  {
   "cell_type": "code",
   "execution_count": null,
   "id": "fd1deed4-69d3-4e62-ba9a-7729c5de676c",
   "metadata": {},
   "outputs": [],
   "source": []
  },
  {
   "cell_type": "code",
   "execution_count": null,
   "id": "df680d7a-7844-40cf-af44-be648bdae78a",
   "metadata": {},
   "outputs": [],
   "source": []
  },
  {
   "cell_type": "code",
   "execution_count": null,
   "id": "f0e4c4cc-b3e2-48aa-b67f-e266a2f1e125",
   "metadata": {},
   "outputs": [],
   "source": [
    "alpha = [0.01, 0.1, 1.0, 2.0, 4.0]\n",
    "beta = 1.0\n",
    "scale = 1/beta\n",
    "q = np.linspace(0.01,0.99,99)\n",
    "data = np.zeros(shape=(99,len(alpha)))\n",
    "for i in range(len(alpha)):\n",
    "    data[:,i] = gamma.ppf(q=q, a=alpha[i], scale=scale)"
   ]
  },
  {
   "cell_type": "code",
   "execution_count": null,
   "id": "023ba3cd-732a-4439-b877-b18d6682519d",
   "metadata": {},
   "outputs": [],
   "source": [
    "approx = np.zeros(data.shape)\n",
    "for i in range(len(alpha)):\n",
    "    approx[:,i] = approx_gamma_params(data[:,i])"
   ]
  },
  {
   "cell_type": "code",
   "execution_count": null,
   "id": "a5f01065-827e-4810-a930-9ac474d90bc7",
   "metadata": {},
   "outputs": [],
   "source": [
    "errors = np.zeros(data.shape)\n",
    "for i in range(len(alpha)):\n",
    "    errors[:,i] = (approx[:,i]-data[:,i]) / max(data[:,i].max(),approx[:,i].max())"
   ]
  },
  {
   "cell_type": "code",
   "execution_count": null,
   "id": "995593bc-9f1f-491e-a3c3-5633ce085a74",
   "metadata": {},
   "outputs": [],
   "source": [
    "cs = ['xkcd:black', 'xkcd:blue', 'xkcd:red', 'xkcd:green', 'xkcd:orange']\n",
    "labels = [f'alpha={alpha[0]}', f'alpha={alpha[1]}', f'alpha={alpha[2]}', f'alpha={alpha[3]}', f'alpha={alpha[4]}']\n",
    "for i in range(len(cs)):\n",
    "    plt.plot(q, errors[:,i], c=cs[i], label=labels[i])\n",
    "\n",
    "    \n",
    "plt.xlabel('probability levels')\n",
    "plt.ylabel('absolute relative')\n",
    "plt.legend()\n",
    "plt.show()"
   ]
  }
 ],
 "metadata": {
  "kernelspec": {
   "display_name": "Python 3 (ipykernel)",
   "language": "python",
   "name": "python3"
  },
  "language_info": {
   "codemirror_mode": {
    "name": "ipython",
    "version": 3
   },
   "file_extension": ".py",
   "mimetype": "text/x-python",
   "name": "python",
   "nbconvert_exporter": "python",
   "pygments_lexer": "ipython3",
   "version": "3.10.5"
  }
 },
 "nbformat": 4,
 "nbformat_minor": 5
}
