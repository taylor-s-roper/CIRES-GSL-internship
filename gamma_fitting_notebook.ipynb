{
 "cells": [
  {
   "cell_type": "code",
   "execution_count": null,
   "id": "482752cb-0604-4071-8387-5a4f0e091b00",
   "metadata": {},
   "outputs": [],
   "source": [
    "import pygrib\n",
    "import numpy as np\n",
    "from scipy.integrate import quadrature as quad\n",
    "from scipy.stats import gamma\n",
    "import matplotlib.pyplot as plt"
   ]
  },
  {
   "cell_type": "code",
   "execution_count": null,
   "id": "6550ddf6-3063-44bc-bb7c-c902ae42f078",
   "metadata": {},
   "outputs": [],
   "source": [
    "# read in grib file\n",
    "fn_grb = 'blend.t00z.qmd.f012.co.grib2'\n",
    "ds_grb = pygrib.open(fn_grb)\n",
    "\n",
    "# latitude and longitude grid values\n",
    "lat, long = ds_grb.message(2).data()[1:]\n",
    "\n",
    "# extracting precipitation levels for 6 hr forecast\n",
    "precip_shape = lat.shape\n",
    "precip_levels = np.zeros(shape=(99,)+precip_shape)\n",
    "for i in range(99):\n",
    "    precip_levels[i,:,:] = ds_grb.message(i+2).data()[0]"
   ]
  },
  {
   "cell_type": "code",
   "execution_count": null,
   "id": "cb379b11-3164-44bc-b6e2-de57926cc4d1",
   "metadata": {},
   "outputs": [],
   "source": [
    "def cdf(x, data):\n",
    "    return np.interp(x, data, np.linspace(0.01, 0.99, 99))\n",
    "\n",
    "def approx_gamma_params(data):\n",
    "    loc_idx = int(np.where(data != 0)[0].min())\n",
    "    loc = data[loc_idx]\n",
    "    def cdf_(x):\n",
    "        return cdf(x, data)\n",
    "    def cdf_shift(x):\n",
    "        return 1-cdf_(x)\n",
    "    def x_cdf_shift(x):\n",
    "        return 2*x*(1-cdf_(x))\n",
    "    data_max = data.max()\n",
    "    mom1, _ = quad(cdf_shift, loc, data_max)\n",
    "    mom2, _ = quad(x_cdf_shift, loc, data_max)\n",
    "    mean = mom1\n",
    "    var = mom2 - mom1**2\n",
    "    shape = mean**2/var\n",
    "    scale = mean/var\n",
    "    levels = np.linspace(0.01, 0.99, 99-loc_idx)\n",
    "    # return shape, loc, scale\n",
    "    output_zeros = np.zeros(loc_idx)\n",
    "    output_gamma = gamma.ppf(levels, shape, loc=loc, scale=scale) \n",
    "    return np.hstack([output_zeros, output_gamma])"
   ]
  },
  {
   "cell_type": "code",
   "execution_count": null,
   "id": "7b1d7159-87b5-496b-89df-9a19ea892454",
   "metadata": {},
   "outputs": [],
   "source": [
    "# initializing output\n",
    "level_width = 30 \n",
    "precip_levels_approx_gamma = np.zeros(shape=(int(np.floor(100/level_width)),)+lat.shape)\n",
    "nonzero_idx = np.where(precip_levels[-1,:,:] != 0)"
   ]
  },
  {
   "cell_type": "code",
   "execution_count": null,
   "id": "e6d84d43-ab6a-4dc9-ab04-f5d26127719b",
   "metadata": {},
   "outputs": [],
   "source": [
    "# wrapped function for parallel processing\n",
    "def wrap(n):\n",
    "    i = nonzero_idx[0][n]\n",
    "    j = nonzero_idx[1][n]\n",
    "    precip_levels_approx_gamma[:,i,j] = approx_gamma_params(precip_levels[:,i,j])\n",
    "\n",
    "# parallel code using multiprocessing - doesn't seem to speed up code with 8 cores though!\n",
    "if __name__ == '__main__':\n",
    "    if mp.cpu_count() > 16:\n",
    "        pool = mp.Pool(processes = mp.cpu_count()-16)\n",
    "    else:\n",
    "        pool = mp.Pool(processes = np.cpu_count())\n",
    "    pool.map_async(wrap, list(range(nonzero_idx[0].shape[0])))\n",
    "    pool.close()\n",
    "    pool.join()"
   ]
  },
  {
   "cell_type": "code",
   "execution_count": null,
   "id": "933e1b69-8884-4e8b-b69c-c727b256d96e",
   "metadata": {},
   "outputs": [],
   "source": [
    "np.save('precip_levels_approx_gamma', precip_levels_approx_gamma)"
   ]
  },
  {
   "cell_type": "code",
   "execution_count": null,
   "id": "f5b755f1-063b-428b-b01c-ee011c4e06a4",
   "metadata": {},
   "outputs": [],
   "source": []
  },
  {
   "cell_type": "code",
   "execution_count": null,
   "id": "68b859bd-9ab1-4184-aaf5-4f620c1f0067",
   "metadata": {},
   "outputs": [],
   "source": []
  },
  {
   "cell_type": "code",
   "execution_count": null,
   "id": "977cc185-a828-412e-94d0-806badffbd28",
   "metadata": {},
   "outputs": [],
   "source": []
  },
  {
   "cell_type": "code",
   "execution_count": null,
   "id": "c72dcd17-2218-401e-ac32-e5c02b000f4a",
   "metadata": {},
   "outputs": [],
   "source": []
  },
  {
   "cell_type": "code",
   "execution_count": null,
   "id": "90109034-d596-4fec-ba3a-7dfe2619da27",
   "metadata": {},
   "outputs": [],
   "source": [
    "#n = int(np.random.uniform(0,nonzero_idx[0].shape[0]-1))\n",
    "i = nonzero_idx[0][n]\n",
    "j = nonzero_idx[1][n]\n",
    "approx = approx_gamma_params(precip_levels[:,i,j])\n",
    "levels = np.linspace(1,99,99)\n",
    "plt.plot(levels, precip_levels[:,i,j], c='xkcd:black', label='orig')\n",
    "plt.plot(levels, approx, c='xkcd:red', label='approx')\n",
    "plt.legend()"
   ]
  },
  {
   "cell_type": "code",
   "execution_count": null,
   "id": "aff5dc4e-2334-495a-b958-1414d3e93416",
   "metadata": {},
   "outputs": [],
   "source": [
    "approx[67:]"
   ]
  },
  {
   "cell_type": "code",
   "execution_count": null,
   "id": "245516a7-54d5-468f-a976-f38df91e8565",
   "metadata": {},
   "outputs": [],
   "source": [
    "np.where(precip_levels[:,i,j] != 0)[0].min()"
   ]
  },
  {
   "cell_type": "code",
   "execution_count": null,
   "id": "70663e95-e301-4be5-a356-a7e9a4d42a8f",
   "metadata": {},
   "outputs": [],
   "source": [
    "data = precip_levels[:,i,j]\n",
    "loc_idx = np.where(data != 0)[0].min()\n",
    "loc = data[loc_idx]\n",
    "print(loc_idx, loc)"
   ]
  },
  {
   "cell_type": "code",
   "execution_count": null,
   "id": "2677ea15-315e-4926-8272-2e9cf7751561",
   "metadata": {},
   "outputs": [],
   "source": [
    "def cdf_(x):\n",
    "    return cdf(x, data)\n",
    "def cdf_shift(x):\n",
    "    return 1-cdf_(x)\n",
    "def x_cdf_shift(x):\n",
    "    return 2*x*(1-cdf_(x))"
   ]
  },
  {
   "cell_type": "code",
   "execution_count": null,
   "id": "44f607b1-421e-45e7-a029-00f6db511721",
   "metadata": {},
   "outputs": [],
   "source": [
    "data_max = cdf_(.99)\n",
    "print(data_max, data.max())"
   ]
  },
  {
   "cell_type": "code",
   "execution_count": null,
   "id": "eae6377c-bd34-46f5-b610-28b2ea4d5eaf",
   "metadata": {},
   "outputs": [],
   "source": [
    "mom1, _ = quad(cdf_shift, loc, data_max)\n",
    "mom2, _ = quad(x_cdf_shift, loc, data_max)\n",
    "print(mom1, mom2)"
   ]
  },
  {
   "cell_type": "code",
   "execution_count": null,
   "id": "2395f765-4ee0-4779-892c-260e916b17f1",
   "metadata": {},
   "outputs": [],
   "source": []
  }
 ],
 "metadata": {
  "kernelspec": {
   "display_name": "Python 3 (ipykernel)",
   "language": "python",
   "name": "python3"
  },
  "language_info": {
   "codemirror_mode": {
    "name": "ipython",
    "version": 3
   },
   "file_extension": ".py",
   "mimetype": "text/x-python",
   "name": "python",
   "nbconvert_exporter": "python",
   "pygments_lexer": "ipython3",
   "version": "3.10.5"
  }
 },
 "nbformat": 4,
 "nbformat_minor": 5
}
