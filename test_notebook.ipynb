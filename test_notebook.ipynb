{
 "cells": [
  {
   "cell_type": "code",
   "execution_count": null,
   "id": "78c3cc9d-6732-4fff-bb5d-99a6e78d2a71",
   "metadata": {
    "tags": []
   },
   "outputs": [],
   "source": [
    "import numpy as np\n",
    "import pygrib\n",
    "from scipy import interpolate\n",
    "import multiprocessing as mp\n",
    "import time\n",
    "\n",
    "def linear_splines_unif(data, num_knots=10, level_width=1):   \n",
    "    '''\n",
    "    Calculates piecewise linear splines for quantile data using specified number of \n",
    "    knots uniformly spaced and returning interpolated approximation at every \n",
    "    quantile level with level_width.\n",
    "    ''' \n",
    "\n",
    "    # dealing with all 0 data\n",
    "    if data[-1] == 0:\n",
    "        return np.zeros(int(np.floor(100/level_width)))\n",
    "\n",
    "    # calculating where cdf starts being nonzero \n",
    "    levels = np.array(range(1,100))\n",
    "    knot_ = np.where(data > 0)[0].min() - 1  \n",
    "\n",
    "    # constructing knots\n",
    "    if knot_ > 1:\n",
    "        knots = np.unique(np.linspace(knot_-1, 98, num_knots-1, dtype=int))\n",
    "        knots = np.insert(knots, 0, 0)\n",
    "    else:\n",
    "        knots = np.unique(np.linspace(0, 98, num_knots, dtype=int))\n",
    "        \n",
    "    # approx = interpolate.interp1d(knots+1, data[knots], assume_sorted=True) \n",
    "    # return approx(levels[level_width-1::level_width])\n",
    "    return np.interp(levels[level_width-1::level_width], knots+1, data[knots])\n",
    "\n",
    "# read in grib file\n",
    "fn_grb = 'blend.t00z.qmd.f012.co.grib2'\n",
    "ds_grb = pygrib.open(fn_grb)\n",
    "\n",
    "# latitude and longitude grid values\n",
    "lat, long = ds_grb.message(2).data()[1:]\n",
    "\n",
    "# extracting precipitation levels for 6 hr forecast\n",
    "precip_shape = lat.shape\n",
    "precip_levels = np.zeros(shape=(99,)+precip_shape)\n",
    "for i in range(99):\n",
    "    precip_levels[i,:,:] = ds_grb.message(i+2).data()[0]\n",
    "\n",
    "# flattening precip_levels\n",
    "global precip_levels_flat\n",
    "precip_levels_flat = np.zeros(shape=(99,lat.shape[0]*lat.shape[1]))\n",
    "\n",
    "for element in range(lat.shape[0]*lat.shape[1]):\n",
    "    i = int(np.floor(element/lat.shape[1]))\n",
    "    j = int(element % lat.shape[1])\n",
    "    precip_levels_flat[:,element] = precip_levels[:,i,j]"
   ]
  },
  {
   "cell_type": "code",
   "execution_count": null,
   "id": "b582e98f-fa47-4869-b40c-a1eb7fd291eb",
   "metadata": {},
   "outputs": [],
   "source": [
    "nonzero_gridpoints = np.where(precip_levels_flat[-1,:] != 0)"
   ]
  },
  {
   "cell_type": "code",
   "execution_count": null,
   "id": "e8ced236-4d9e-4fa0-8b15-9bf17efb176f",
   "metadata": {},
   "outputs": [],
   "source": [
    "nonzero_gridpoints[0].shape"
   ]
  },
  {
   "cell_type": "code",
   "execution_count": null,
   "id": "d4c185b4-8e6f-4611-b14f-13855a4906c9",
   "metadata": {},
   "outputs": [],
   "source": [
    "lat.shape[0]*lat.shape[1] / np.where(precip_levels_flat[49,:] != 0)[0].shape[0] * 30/60"
   ]
  },
  {
   "cell_type": "code",
   "execution_count": null,
   "id": "e8aad649-79c5-4612-af26-de1da97b0393",
   "metadata": {},
   "outputs": [],
   "source": []
  }
 ],
 "metadata": {
  "kernelspec": {
   "display_name": "Python 3 (ipykernel)",
   "language": "python",
   "name": "python3"
  },
  "language_info": {
   "codemirror_mode": {
    "name": "ipython",
    "version": 3
   },
   "file_extension": ".py",
   "mimetype": "text/x-python",
   "name": "python",
   "nbconvert_exporter": "python",
   "pygments_lexer": "ipython3",
   "version": "3.9.12"
  }
 },
 "nbformat": 4,
 "nbformat_minor": 5
}
